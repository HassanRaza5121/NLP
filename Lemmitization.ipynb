{
 "cells": [
  {
   "cell_type": "code",
   "execution_count": 4,
   "id": "0e7f125c",
   "metadata": {},
   "outputs": [
    {
     "name": "stderr",
     "output_type": "stream",
     "text": [
      "[nltk_data] Downloading package wordnet to\n",
      "[nltk_data]     C:\\Users\\ST\\AppData\\Roaming\\nltk_data...\n"
     ]
    },
    {
     "data": {
      "text/plain": [
       "True"
      ]
     },
     "execution_count": 4,
     "metadata": {},
     "output_type": "execute_result"
    }
   ],
   "source": [
    "import nltk\n",
    "nltk.download('wordnet')\n"
   ]
  },
  {
   "cell_type": "code",
   "execution_count": 17,
   "id": "13685998",
   "metadata": {},
   "outputs": [],
   "source": [
    "from nltk.stem import WordNetLemmatizer"
   ]
  },
  {
   "cell_type": "code",
   "execution_count": 18,
   "id": "c2bb040a",
   "metadata": {},
   "outputs": [],
   "source": [
    "word_lemma = WordNetLemmatizer()"
   ]
  },
  {
   "cell_type": "code",
   "execution_count": null,
   "id": "acc2b31f",
   "metadata": {},
   "outputs": [],
   "source": []
  },
  {
   "cell_type": "code",
   "execution_count": 19,
   "id": "5262072b",
   "metadata": {},
   "outputs": [
    {
     "data": {
      "text/plain": [
       "'Congratulations'"
      ]
     },
     "execution_count": 19,
     "metadata": {},
     "output_type": "execute_result"
    }
   ],
   "source": [
    "word_lemma.lemmatize('Congratulations',pos='n')"
   ]
  },
  {
   "cell_type": "code",
   "execution_count": 20,
   "id": "42aa7bdb",
   "metadata": {},
   "outputs": [
    {
     "data": {
      "text/plain": [
       "'history'"
      ]
     },
     "execution_count": 20,
     "metadata": {},
     "output_type": "execute_result"
    }
   ],
   "source": [
    "word_lemma.lemmatize('history')"
   ]
  },
  {
   "cell_type": "code",
   "execution_count": 21,
   "id": "5f599d7d",
   "metadata": {},
   "outputs": [
    {
     "data": {
      "text/plain": [
       "'go'"
      ]
     },
     "execution_count": 21,
     "metadata": {},
     "output_type": "execute_result"
    }
   ],
   "source": [
    "word_lemma.lemmatize('going',pos='v')"
   ]
  },
  {
   "cell_type": "code",
   "execution_count": 22,
   "id": "ad2d1353",
   "metadata": {},
   "outputs": [],
   "source": [
    "words = [\"eat\", \"ate\", \"eating\", \"write\", \"wrote\", \"writing\", \"speak\", \"spoke\", \"speaking\", \"drink\", \"drank\", \"drinking\", \"run\", \"ran\", \"running\", \"sing\", \"sang\", \"singing\", \"swim\", \"swam\", \"swimming\", \"drive\", \"drove\", \"driving\", \"sleep\", \"slept\", \"sleeping\", \"break\", \"broke\", \"breaking\"]"
   ]
  },
  {
   "cell_type": "code",
   "execution_count": 25,
   "id": "f0b7d884",
   "metadata": {},
   "outputs": [
    {
     "name": "stdout",
     "output_type": "stream",
     "text": [
      "eat----> eat\n",
      "ate----> eat\n",
      "eating----> eat\n",
      "write----> write\n",
      "wrote----> write\n",
      "writing----> write\n",
      "speak----> speak\n",
      "spoke----> speak\n",
      "speaking----> speak\n",
      "drink----> drink\n",
      "drank----> drink\n",
      "drinking----> drink\n",
      "run----> run\n",
      "ran----> run\n",
      "running----> run\n",
      "sing----> sing\n",
      "sang----> sing\n",
      "singing----> sing\n",
      "swim----> swim\n",
      "swam----> swim\n",
      "swimming----> swim\n",
      "drive----> drive\n",
      "drove----> drive\n",
      "driving----> drive\n",
      "sleep----> sleep\n",
      "slept----> sleep\n",
      "sleeping----> sleep\n",
      "break----> break\n",
      "broke----> break\n",
      "breaking----> break\n"
     ]
    }
   ],
   "source": [
    "for word in words:\n",
    "    print(word+'---->',word_lemma.lemmatize(word,pos='v'))"
   ]
  },
  {
   "cell_type": "code",
   "execution_count": null,
   "id": "27b19948",
   "metadata": {},
   "outputs": [],
   "source": []
  }
 ],
 "metadata": {
  "kernelspec": {
   "display_name": "Python 3.11.5",
   "language": "python",
   "name": "python3.11.5"
  },
  "language_info": {
   "codemirror_mode": {
    "name": "ipython",
    "version": 3
   },
   "file_extension": ".py",
   "mimetype": "text/x-python",
   "name": "python",
   "nbconvert_exporter": "python",
   "pygments_lexer": "ipython3",
   "version": "3.11.3"
  }
 },
 "nbformat": 4,
 "nbformat_minor": 5
}
