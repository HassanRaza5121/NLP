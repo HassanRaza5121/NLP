{
 "cells": [
  {
   "cell_type": "code",
   "execution_count": 1,
   "id": "003b3bbd",
   "metadata": {},
   "outputs": [],
   "source": [
    "from nltk.stem import PorterStemmer\n",
    "stemmer = PorterStemmer()"
   ]
  },
  {
   "cell_type": "code",
   "execution_count": 2,
   "id": "0bac041a",
   "metadata": {},
   "outputs": [],
   "source": [
    "words = [\"eat\", \"ate\", \"eating\", \"write\", \"wrote\", \"writing\", \"speak\", \"spoke\", \"speaking\", \"drink\", \"drank\", \"drinking\", \"run\", \"ran\", \"running\", \"sing\", \"sang\", \"singing\", \"swim\", \"swam\", \"swimming\", \"drive\", \"drove\", \"driving\", \"sleep\", \"slept\", \"sleeping\", \"break\", \"broke\", \"breaking\"]\n"
   ]
  },
  {
   "cell_type": "code",
   "execution_count": 19,
   "id": "c6cab408",
   "metadata": {},
   "outputs": [
    {
     "ename": "TypeError",
     "evalue": "PorterStemmer.stem() got an unexpected keyword argument 'pos'",
     "output_type": "error",
     "traceback": [
      "\u001b[1;31m---------------------------------------------------------------------------\u001b[0m",
      "\u001b[1;31mTypeError\u001b[0m                                 Traceback (most recent call last)",
      "Cell \u001b[1;32mIn[19], line 2\u001b[0m\n\u001b[0;32m      1\u001b[0m \u001b[38;5;28;01mfor\u001b[39;00m word \u001b[38;5;129;01min\u001b[39;00m words:\n\u001b[1;32m----> 2\u001b[0m     \u001b[38;5;28mprint\u001b[39m(word\u001b[38;5;241m+\u001b[39m\u001b[38;5;124m\"\u001b[39m\u001b[38;5;124m---->\u001b[39m\u001b[38;5;124m\"\u001b[39m\u001b[38;5;241m+\u001b[39m\u001b[43mstemmer\u001b[49m\u001b[38;5;241;43m.\u001b[39;49m\u001b[43mstem\u001b[49m\u001b[43m(\u001b[49m\u001b[43mword\u001b[49m\u001b[43m,\u001b[49m\u001b[43mpos\u001b[49m\u001b[38;5;241;43m=\u001b[39;49m\u001b[38;5;124;43m'\u001b[39;49m\u001b[38;5;124;43mv\u001b[39;49m\u001b[38;5;124;43m'\u001b[39;49m\u001b[43m)\u001b[49m)\n",
      "\u001b[1;31mTypeError\u001b[0m: PorterStemmer.stem() got an unexpected keyword argument 'pos'"
     ]
    }
   ],
   "source": [
    "for word in words:\n",
    "    print(word+\"---->\"+stemmer.stem(word,pos='v'))"
   ]
  },
  {
   "cell_type": "code",
   "execution_count": 7,
   "id": "65b3157a",
   "metadata": {},
   "outputs": [],
   "source": [
    "from nltk.stem import RegexpStemmer"
   ]
  },
  {
   "cell_type": "code",
   "execution_count": 9,
   "id": "fabe410e",
   "metadata": {},
   "outputs": [
    {
     "data": {
      "text/plain": [
       "'congratulat'"
      ]
     },
     "execution_count": 9,
     "metadata": {},
     "output_type": "execute_result"
    }
   ],
   "source": [
    "reg_stemmer = RegexpStemmer('ing$|s$|e$|able$|ion$',min=4)\n",
    "reg_stemmer.stem('congratulation')"
   ]
  },
  {
   "cell_type": "code",
   "execution_count": 10,
   "id": "fc0bde13",
   "metadata": {},
   "outputs": [
    {
     "data": {
      "text/plain": [
       "'demand'"
      ]
     },
     "execution_count": 10,
     "metadata": {},
     "output_type": "execute_result"
    }
   ],
   "source": [
    "reg_stemmer.stem('demandable')"
   ]
  },
  {
   "cell_type": "code",
   "execution_count": 12,
   "id": "697e293a",
   "metadata": {},
   "outputs": [
    {
     "data": {
      "text/plain": [
       "'un'"
      ]
     },
     "execution_count": 12,
     "metadata": {},
     "output_type": "execute_result"
    }
   ],
   "source": [
    "reg_stemmer.stem('unable') # Cannot work on this kind so it is an issue"
   ]
  },
  {
   "cell_type": "code",
   "execution_count": 13,
   "id": "b5119981",
   "metadata": {},
   "outputs": [],
   "source": [
    "from nltk.stem import SnowballStemmer"
   ]
  },
  {
   "cell_type": "code",
   "execution_count": 14,
   "id": "3ee512f1",
   "metadata": {},
   "outputs": [],
   "source": [
    "snow_stemmer=SnowballStemmer('english')"
   ]
  },
  {
   "cell_type": "code",
   "execution_count": 15,
   "id": "6708a45f",
   "metadata": {},
   "outputs": [
    {
     "name": "stdout",
     "output_type": "stream",
     "text": [
      "eat----> eat\n",
      "ate----> ate\n",
      "eating----> eat\n",
      "write----> write\n",
      "wrote----> wrote\n",
      "writing----> write\n",
      "speak----> speak\n",
      "spoke----> spoke\n",
      "speaking----> speak\n",
      "drink----> drink\n",
      "drank----> drank\n",
      "drinking----> drink\n",
      "run----> run\n",
      "ran----> ran\n",
      "running----> run\n",
      "sing----> sing\n",
      "sang----> sang\n",
      "singing----> sing\n",
      "swim----> swim\n",
      "swam----> swam\n",
      "swimming----> swim\n",
      "drive----> drive\n",
      "drove----> drove\n",
      "driving----> drive\n",
      "sleep----> sleep\n",
      "slept----> slept\n",
      "sleeping----> sleep\n",
      "break----> break\n",
      "broke----> broke\n",
      "breaking----> break\n"
     ]
    }
   ],
   "source": [
    "for word in words:\n",
    "        print(word+\"---->\",snow_stemmer.stem(word))"
   ]
  },
  {
   "cell_type": "code",
   "execution_count": 16,
   "id": "5da8c068",
   "metadata": {},
   "outputs": [
    {
     "data": {
      "text/plain": [
       "('fair', 'sport')"
      ]
     },
     "execution_count": 16,
     "metadata": {},
     "output_type": "execute_result"
    }
   ],
   "source": [
    "# Here u you see why it is better as compared to the porter stemmer\n",
    "snow_stemmer.stem('Fairly'),snow_stemmer.stem('sportly')"
   ]
  },
  {
   "cell_type": "code",
   "execution_count": 17,
   "id": "881fc8e9",
   "metadata": {},
   "outputs": [
    {
     "data": {
      "text/plain": [
       "'fairli'"
      ]
     },
     "execution_count": 17,
     "metadata": {},
     "output_type": "execute_result"
    }
   ],
   "source": [
    "# Now porter stemmer turn\n",
    "stemmer.stem('Fairly')"
   ]
  },
  {
   "cell_type": "code",
   "execution_count": null,
   "id": "4f04cafd",
   "metadata": {},
   "outputs": [],
   "source": []
  }
 ],
 "metadata": {
  "kernelspec": {
   "display_name": "Python 3.11.5",
   "language": "python",
   "name": "python3.11.5"
  },
  "language_info": {
   "codemirror_mode": {
    "name": "ipython",
    "version": 3
   },
   "file_extension": ".py",
   "mimetype": "text/x-python",
   "name": "python",
   "nbconvert_exporter": "python",
   "pygments_lexer": "ipython3",
   "version": "3.11.3"
  }
 },
 "nbformat": 4,
 "nbformat_minor": 5
}
