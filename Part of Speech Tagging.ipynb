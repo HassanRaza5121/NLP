{
 "cells": [
  {
   "cell_type": "code",
   "execution_count": 1,
   "id": "fa62596a",
   "metadata": {},
   "outputs": [
    {
     "name": "stderr",
     "output_type": "stream",
     "text": [
      "[nltk_data] Downloading package averaged_perceptron_tagger to\n",
      "[nltk_data]     C:\\Users\\ST\\AppData\\Roaming\\nltk_data...\n",
      "[nltk_data]   Package averaged_perceptron_tagger is already up-to-\n",
      "[nltk_data]       date!\n"
     ]
    },
    {
     "data": {
      "text/plain": [
       "True"
      ]
     },
     "execution_count": 1,
     "metadata": {},
     "output_type": "execute_result"
    }
   ],
   "source": [
    "import nltk\n",
    "nltk.download('averaged_perceptron_tagger')"
   ]
  },
  {
   "cell_type": "code",
   "execution_count": 2,
   "id": "3817e6c2",
   "metadata": {},
   "outputs": [],
   "source": [
    "paragraph = \"\"\"I have a dream that one day this nation will rise up and live out the true meaning of its creed: 'We hold these truths to be self-evident, that all men are created equal.'\n",
    "\n",
    "I have a dream that one day on the red hills of Georgia, the sons of former slaves and the sons of former slave owners will be able to sit down together at the table of brotherhood.\n",
    "\n",
    "I have a dream that one day even the state of Mississippi, a state sweltering with the heat of injustice, sweltering with the heat of oppression, will be transformed into an oasis of freedom and justice.\n",
    "\n",
    "I have a dream that my four little children will one day live in a nation where they will not be judged by the color of their skin but by the content of their character.\n",
    "\n",
    "I have a dream today!\n",
    "\n",
    "I have a dream that one day, down in Alabama, with its vicious racists, with its governor having his lips dripping with the words of 'interposition' and 'nullification' -- one day right there in Alabama little black boys and black girls will be able to join hands with little white boys and white girls as sisters and brothers.\n",
    "\n",
    "I have a dream today!\n",
    "\n",
    "I have a dream that one day every valley shall be exalted, and every hill and mountain shall be made low, the rough places will be made plain, and the crooked places will be made straight; 'and the glory of the Lord shall be revealed and all flesh shall see it together\"\"\""
   ]
  },
  {
   "cell_type": "code",
   "execution_count": 4,
   "id": "908077d8",
   "metadata": {},
   "outputs": [],
   "source": [
    "sent = nltk.sent_tokenize(paragraph)"
   ]
  },
  {
   "cell_type": "code",
   "execution_count": 5,
   "id": "c05f00dc",
   "metadata": {},
   "outputs": [
    {
     "data": {
      "text/plain": [
       "[\"I have a dream that one day this nation will rise up and live out the true meaning of its creed: 'We hold these truths to be self-evident, that all men are created equal.'\",\n",
       " 'I have a dream that one day on the red hills of Georgia, the sons of former slaves and the sons of former slave owners will be able to sit down together at the table of brotherhood.',\n",
       " 'I have a dream that one day even the state of Mississippi, a state sweltering with the heat of injustice, sweltering with the heat of oppression, will be transformed into an oasis of freedom and justice.',\n",
       " 'I have a dream that my four little children will one day live in a nation where they will not be judged by the color of their skin but by the content of their character.',\n",
       " 'I have a dream today!',\n",
       " \"I have a dream that one day, down in Alabama, with its vicious racists, with its governor having his lips dripping with the words of 'interposition' and 'nullification' -- one day right there in Alabama little black boys and black girls will be able to join hands with little white boys and white girls as sisters and brothers.\",\n",
       " 'I have a dream today!',\n",
       " \"I have a dream that one day every valley shall be exalted, and every hill and mountain shall be made low, the rough places will be made plain, and the crooked places will be made straight; 'and the glory of the Lord shall be revealed and all flesh shall see it together\"]"
      ]
     },
     "execution_count": 5,
     "metadata": {},
     "output_type": "execute_result"
    }
   ],
   "source": [
    "sent"
   ]
  },
  {
   "cell_type": "code",
   "execution_count": 6,
   "id": "25f01424",
   "metadata": {},
   "outputs": [],
   "source": [
    "from nltk.stem import PorterStemmer"
   ]
  },
  {
   "cell_type": "code",
   "execution_count": 7,
   "id": "4badb583",
   "metadata": {},
   "outputs": [],
   "source": [
    "p_stemmer = PorterStemmer()"
   ]
  },
  {
   "cell_type": "code",
   "execution_count": 10,
   "id": "7930d1bc",
   "metadata": {},
   "outputs": [
    {
     "name": "stdout",
     "output_type": "stream",
     "text": [
      "[('I', 'PRP'), ('have', 'VBP'), ('a', 'DT'), ('dream', 'NN'), ('that', 'WDT'), ('one', 'CD'), ('day', 'NN'), ('this', 'DT'), ('nation', 'NN'), ('will', 'MD'), ('rise', 'VB'), ('up', 'RB'), ('and', 'CC'), ('live', 'VB'), ('out', 'RP'), ('the', 'DT'), ('true', 'JJ'), ('meaning', 'NN'), ('of', 'IN'), ('its', 'PRP$'), ('creed', 'NN'), (':', ':'), (\"'We\", 'CC'), ('hold', 'VB'), ('these', 'DT'), ('truths', 'NNS'), ('to', 'TO'), ('be', 'VB'), ('self-evident', 'JJ'), (',', ','), ('that', 'IN'), ('all', 'DT'), ('men', 'NNS'), ('are', 'VBP'), ('created', 'VBN'), ('equal', 'JJ'), ('.', '.'), (\"'\", \"''\")]\n",
      "[('I', 'PRP'), ('have', 'VBP'), ('a', 'DT'), ('dream', 'NN'), ('that', 'WDT'), ('one', 'CD'), ('day', 'NN'), ('on', 'IN'), ('the', 'DT'), ('red', 'JJ'), ('hills', 'NNS'), ('of', 'IN'), ('Georgia', 'NNP'), (',', ','), ('the', 'DT'), ('sons', 'NNS'), ('of', 'IN'), ('former', 'JJ'), ('slaves', 'NNS'), ('and', 'CC'), ('the', 'DT'), ('sons', 'NNS'), ('of', 'IN'), ('former', 'JJ'), ('slave', 'NN'), ('owners', 'NNS'), ('will', 'MD'), ('be', 'VB'), ('able', 'JJ'), ('to', 'TO'), ('sit', 'VB'), ('down', 'RP'), ('together', 'RB'), ('at', 'IN'), ('the', 'DT'), ('table', 'NN'), ('of', 'IN'), ('brotherhood', 'NN'), ('.', '.')]\n",
      "[('I', 'PRP'), ('have', 'VBP'), ('a', 'DT'), ('dream', 'NN'), ('that', 'WDT'), ('one', 'CD'), ('day', 'NN'), ('even', 'RB'), ('the', 'DT'), ('state', 'NN'), ('of', 'IN'), ('Mississippi', 'NNP'), (',', ','), ('a', 'DT'), ('state', 'NN'), ('sweltering', 'NN'), ('with', 'IN'), ('the', 'DT'), ('heat', 'NN'), ('of', 'IN'), ('injustice', 'NN'), (',', ','), ('sweltering', 'VBG'), ('with', 'IN'), ('the', 'DT'), ('heat', 'NN'), ('of', 'IN'), ('oppression', 'NN'), (',', ','), ('will', 'MD'), ('be', 'VB'), ('transformed', 'VBN'), ('into', 'IN'), ('an', 'DT'), ('oasis', 'NN'), ('of', 'IN'), ('freedom', 'NN'), ('and', 'CC'), ('justice', 'NN'), ('.', '.')]\n",
      "[('I', 'PRP'), ('have', 'VBP'), ('a', 'DT'), ('dream', 'NN'), ('that', 'IN'), ('my', 'PRP$'), ('four', 'CD'), ('little', 'JJ'), ('children', 'NNS'), ('will', 'MD'), ('one', 'CD'), ('day', 'NN'), ('live', 'VB'), ('in', 'IN'), ('a', 'DT'), ('nation', 'NN'), ('where', 'WRB'), ('they', 'PRP'), ('will', 'MD'), ('not', 'RB'), ('be', 'VB'), ('judged', 'VBN'), ('by', 'IN'), ('the', 'DT'), ('color', 'NN'), ('of', 'IN'), ('their', 'PRP$'), ('skin', 'NN'), ('but', 'CC'), ('by', 'IN'), ('the', 'DT'), ('content', 'NN'), ('of', 'IN'), ('their', 'PRP$'), ('character', 'NN'), ('.', '.')]\n",
      "[('I', 'PRP'), ('have', 'VBP'), ('a', 'DT'), ('dream', 'NN'), ('today', 'NN'), ('!', '.')]\n",
      "[('I', 'PRP'), ('have', 'VBP'), ('a', 'DT'), ('dream', 'NN'), ('that', 'WDT'), ('one', 'CD'), ('day', 'NN'), (',', ','), ('down', 'RB'), ('in', 'IN'), ('Alabama', 'NNP'), (',', ','), ('with', 'IN'), ('its', 'PRP$'), ('vicious', 'JJ'), ('racists', 'NNS'), (',', ','), ('with', 'IN'), ('its', 'PRP$'), ('governor', 'NN'), ('having', 'VBG'), ('his', 'PRP$'), ('lips', 'NNS'), ('dripping', 'VBG'), ('with', 'IN'), ('the', 'DT'), ('words', 'NNS'), ('of', 'IN'), (\"'interposition\", 'NN'), (\"'\", 'POS'), ('and', 'CC'), (\"'nullification\", 'NNP'), (\"'\", 'POS'), ('--', ':'), ('one', 'CD'), ('day', 'NN'), ('right', 'RB'), ('there', 'RB'), ('in', 'IN'), ('Alabama', 'NNP'), ('little', 'JJ'), ('black', 'JJ'), ('boys', 'NNS'), ('and', 'CC'), ('black', 'JJ'), ('girls', 'NNS'), ('will', 'MD'), ('be', 'VB'), ('able', 'JJ'), ('to', 'TO'), ('join', 'VB'), ('hands', 'NNS'), ('with', 'IN'), ('little', 'JJ'), ('white', 'JJ'), ('boys', 'NNS'), ('and', 'CC'), ('white', 'JJ'), ('girls', 'NNS'), ('as', 'IN'), ('sisters', 'NNS'), ('and', 'CC'), ('brothers', 'NNS'), ('.', '.')]\n",
      "[('I', 'PRP'), ('have', 'VBP'), ('a', 'DT'), ('dream', 'NN'), ('today', 'NN'), ('!', '.')]\n",
      "[('I', 'PRP'), ('have', 'VBP'), ('a', 'DT'), ('dream', 'NN'), ('that', 'WDT'), ('one', 'CD'), ('day', 'NN'), ('every', 'DT'), ('valley', 'NN'), ('shall', 'MD'), ('be', 'VB'), ('exalted', 'VBN'), (',', ','), ('and', 'CC'), ('every', 'DT'), ('hill', 'NN'), ('and', 'CC'), ('mountain', 'VB'), ('shall', 'MD'), ('be', 'VB'), ('made', 'VBN'), ('low', 'JJ'), (',', ','), ('the', 'DT'), ('rough', 'JJ'), ('places', 'NNS'), ('will', 'MD'), ('be', 'VB'), ('made', 'VBN'), ('plain', 'NN'), (',', ','), ('and', 'CC'), ('the', 'DT'), ('crooked', 'JJ'), ('places', 'NNS'), ('will', 'MD'), ('be', 'VB'), ('made', 'VBN'), ('straight', 'RB'), (';', ':'), (\"'and\", 'VB'), ('the', 'DT'), ('glory', 'NN'), ('of', 'IN'), ('the', 'DT'), ('Lord', 'NNP'), ('shall', 'MD'), ('be', 'VB'), ('revealed', 'VBN'), ('and', 'CC'), ('all', 'DT'), ('flesh', 'JJ'), ('shall', 'MD'), ('see', 'VB'), ('it', 'PRP'), ('together', 'RB')]\n"
     ]
    }
   ],
   "source": [
    "for i in range(len(sent)):\n",
    "    words = nltk.word_tokenize(sent[i])\n",
    "    post_tag = nltk.pos_tag(words)\n",
    "    print(post_tag)"
   ]
  },
  {
   "cell_type": "code",
   "execution_count": 11,
   "id": "64916424",
   "metadata": {},
   "outputs": [
    {
     "data": {
      "text/plain": [
       "\"PRP' (Personal Pronoun)\\n'VBP' (Verb, Present Tense, Non-3rd Person Singular)\\n'DT' (Determiner)\\n'NN' (Noun, singular or mass)\\n'WDT' (Wh-Determiner)\\n'CD' (Cardinal Number)\\n'NN' (Noun, singular or mass)\\n'DT' (Determiner)\\n'NN' (Noun, singular or mass)\\n'MD' (Modal)\\n'VB' (Verb, base form)\\n'RB' (Adverb)\\n'CC' (Coordinating conjunction)\\n'VB' (Verb, base form)\\n'RP' (Particle)\\n'DT' (Determiner)\\n'JJ' (Adjective)\\n'NN' (Noun, singular or mass)\\n'IN' (Preposition or subordinating conjunction)\\n'PRP$' (Possessive pronoun)\\n'NN' (Noun, singular or mass)\\n':' (Colon)\\n'CC' (Coordinating conjunction)\\n'VB' (Verb, base form)\\n'DT' (Determiner)\\n'NNS' (Noun, plural)\\n'TO' (to)\\n'VB' (Verb, base form)\\n'JJ' (Adjective)\\n',' (Comma)\\n'IN' (Preposition or subordinating conjunction)\\n'DT' (Determiner)\\n'NNS' (Noun, plural)\""
      ]
     },
     "execution_count": 11,
     "metadata": {},
     "output_type": "execute_result"
    }
   ],
   "source": [
    "'''PRP' (Personal Pronoun)\n",
    "'VBP' (Verb, Present Tense, Non-3rd Person Singular)\n",
    "'DT' (Determiner)\n",
    "'NN' (Noun, singular or mass)\n",
    "'WDT' (Wh-Determiner)\n",
    "'CD' (Cardinal Number)\n",
    "'NN' (Noun, singular or mass)\n",
    "'DT' (Determiner)\n",
    "'NN' (Noun, singular or mass)\n",
    "'MD' (Modal)\n",
    "'VB' (Verb, base form)\n",
    "'RB' (Adverb)\n",
    "'CC' (Coordinating conjunction)\n",
    "'VB' (Verb, base form)\n",
    "'RP' (Particle)\n",
    "'DT' (Determiner)\n",
    "'JJ' (Adjective)\n",
    "'NN' (Noun, singular or mass)\n",
    "'IN' (Preposition or subordinating conjunction)\n",
    "'PRP$' (Possessive pronoun)\n",
    "'NN' (Noun, singular or mass)\n",
    "':' (Colon)\n",
    "'CC' (Coordinating conjunction)\n",
    "'VB' (Verb, base form)\n",
    "'DT' (Determiner)\n",
    "'NNS' (Noun, plural)\n",
    "'TO' (to)\n",
    "'VB' (Verb, base form)\n",
    "'JJ' (Adjective)\n",
    "',' (Comma)\n",
    "'IN' (Preposition or subordinating conjunction)\n",
    "'DT' (Determiner)\n",
    "'NNS' (Noun, plural)'''"
   ]
  },
  {
   "cell_type": "code",
   "execution_count": null,
   "id": "5f2744ff",
   "metadata": {},
   "outputs": [],
   "source": []
  }
 ],
 "metadata": {
  "kernelspec": {
   "display_name": "Python 3.11.5",
   "language": "python",
   "name": "python3.11.5"
  },
  "language_info": {
   "codemirror_mode": {
    "name": "ipython",
    "version": 3
   },
   "file_extension": ".py",
   "mimetype": "text/x-python",
   "name": "python",
   "nbconvert_exporter": "python",
   "pygments_lexer": "ipython3",
   "version": "3.11.3"
  }
 },
 "nbformat": 4,
 "nbformat_minor": 5
}
